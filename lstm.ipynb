{
  "nbformat": 4,
  "nbformat_minor": 0,
  "metadata": {
    "colab": {
      "name": "Untitled6.ipynb",
      "provenance": [],
      "toc_visible": true,
      "authorship_tag": "ABX9TyPTuCoTJI885gFmn/vjuz7Y",
      "include_colab_link": true
    },
    "kernelspec": {
      "name": "python3",
      "display_name": "Python 3"
    }
  },
  "cells": [
    {
      "cell_type": "markdown",
      "metadata": {
        "id": "view-in-github",
        "colab_type": "text"
      },
      "source": [
        "<a href=\"https://colab.research.google.com/github/js0805/solar_photovoltaics_prediction_-_analytics/blob/master/lstm.ipynb\" target=\"_parent\"><img src=\"https://colab.research.google.com/assets/colab-badge.svg\" alt=\"Open In Colab\"/></a>"
      ]
    },
    {
      "cell_type": "markdown",
      "metadata": {
        "id": "eQNVQT99EjUI"
      },
      "source": [
        "# **Develop LSTM model for solar PV power forecasting**"
      ]
    },
    {
      "cell_type": "code",
      "metadata": {
        "id": "8TEOaNXzEpK8"
      },
      "source": [
        "import numpy as np\n",
        "import pandas as pd\n",
        "from tensorflow.keras.models import Sequential\n",
        "from tensorflow.keras.layers import LSTM\n",
        "from tensorflow.keras.layers import Dense\n",
        "from tensorflow.keras.layers import Flatten"
      ],
      "execution_count": 7,
      "outputs": []
    },
    {
      "cell_type": "markdown",
      "metadata": {
        "id": "RXUq6k5vFUkk"
      },
      "source": [
        "Data Preprocessing"
      ]
    },
    {
      "cell_type": "code",
      "metadata": {
        "id": "oP1BPmf9GOXY"
      },
      "source": [
        "def prepare_data(lstm_data, time_steps):\n",
        "   x,y=[],[]\n",
        "   for i in range(len(lstm_data)):\n",
        "     #finding last element\n",
        "     end_ix=i+time_steps\n",
        "     if end_ix > len(lstm_data)-1:\n",
        "       break\n",
        "     seq_x,seq_y = lstm_data[i:end_ix], lstm_data[end_ix]\n",
        "     x.append(seq_x)\n",
        "     y.append(seq_y)\n",
        "   return np.array(x), np.array(y)\n",
        "  \n"
      ],
      "execution_count": 8,
      "outputs": []
    },
    {
      "cell_type": "code",
      "metadata": {
        "id": "O-46hAYDFHgj"
      },
      "source": [
        "data=pd.read_csv('/content/new.csv')\n",
        "lstm_data= data['Energy'].to_numpy()\n",
        "time_steps=7\n",
        "x,y=prepare_data(lstm_data,time_steps)"
      ],
      "execution_count": 14,
      "outputs": []
    },
    {
      "cell_type": "code",
      "metadata": {
        "id": "VoDNVW_cbrOy",
        "outputId": "fcae3f31-c063-4ff1-ee6f-af78cbce10d3",
        "colab": {
          "base_uri": "https://localhost:8080/"
        }
      },
      "source": [
        "print(x), print(y)"
      ],
      "execution_count": 19,
      "outputs": [
        {
          "output_type": "stream",
          "text": [
            "[[[483.]\n",
            "  [371.]\n",
            "  [551.]\n",
            "  ...\n",
            "  [491.]\n",
            "  [547.]\n",
            "  [564.]]\n",
            "\n",
            " [[371.]\n",
            "  [551.]\n",
            "  [614.]\n",
            "  ...\n",
            "  [547.]\n",
            "  [564.]\n",
            "  [546.]]\n",
            "\n",
            " [[551.]\n",
            "  [614.]\n",
            "  [491.]\n",
            "  ...\n",
            "  [564.]\n",
            "  [546.]\n",
            "  [518.]]\n",
            "\n",
            " ...\n",
            "\n",
            " [[712.]\n",
            "  [609.]\n",
            "  [607.]\n",
            "  ...\n",
            "  [573.]\n",
            "  [652.]\n",
            "  [668.]]\n",
            "\n",
            " [[609.]\n",
            "  [607.]\n",
            "  [639.]\n",
            "  ...\n",
            "  [652.]\n",
            "  [668.]\n",
            "  [627.]]\n",
            "\n",
            " [[607.]\n",
            "  [639.]\n",
            "  [573.]\n",
            "  ...\n",
            "  [668.]\n",
            "  [627.]\n",
            "  [592.]]]\n",
            "[546.         518.          95.         476.         453.\n",
            " 427.         617.         542.         464.         683.\n",
            " 646.         597.         573.         515.         539.\n",
            " 671.         659.         644.         681.         657.\n",
            " 659.         717.         722.         701.         695.\n",
            " 306.         325.         480.         470.         291.\n",
            " 663.         599.         586.84615385 586.84615385 586.84615385\n",
            " 586.84615385 586.84615385 583.         586.         243.\n",
            " 464.         583.         617.         636.         591.\n",
            " 507.         593.         587.         635.         602.\n",
            " 620.         616.         609.         595.         583.\n",
            " 651.         446.         555.         716.         709.\n",
            " 662.         683.         623.         706.         685.\n",
            " 686.         663.         666.         112.         646.\n",
            " 712.         743.         671.         662.         571.\n",
            " 653.         690.         672.         652.         516.\n",
            " 651.         502.         367.         396.         592.\n",
            " 593.         611.         658.         574.         579.\n",
            " 577.         475.         498.         587.         690.\n",
            " 687.         615.         633.         415.         413.\n",
            " 489.         434.         528.         666.         659.\n",
            " 551.         519.         682.         693.         637.\n",
            " 651.         638.         489.         524.         245.\n",
            " 643.         610.         510.         693.         599.\n",
            " 583.         672.         729.         657.         636.\n",
            " 586.         633.         522.         707.         718.\n",
            " 727.         715.         700.         666.         704.\n",
            " 633.         716.         643.         671.         745.\n",
            " 730.         733.         719.         724.         483.\n",
            " 671.         789.         731.         815.         765.\n",
            " 695.         730.         684.         772.         779.\n",
            " 834.         790.         738.         586.         625.\n",
            " 719.         774.         809.         687.         776.\n",
            " 734.         862.         704.         526.         743.\n",
            " 695.         618.         819.         682.         635.\n",
            " 732.         711.         678.         634.         242.\n",
            " 700.         608.         665.         440.         631.\n",
            " 340.         655.         750.         698.         642.\n",
            " 792.         612.         691.         648.         801.\n",
            " 589.         725.         729.         788.         775.\n",
            " 725.         791.         802.         798.         605.\n",
            " 729.         706.         586.         690.         615.\n",
            " 675.         715.         693.         642.         710.\n",
            " 678.         621.         715.         465.         290.\n",
            " 683.         746.         756.         719.         625.\n",
            " 625.20689655 631.46666667 501.66666667 574.13333333 261.\n",
            " 755.         822.         910.         845.         666.\n",
            " 634.         701.         705.         730.         657.\n",
            " 731.         659.         652.         607.         707.\n",
            " 740.         735.         715.         706.         758.\n",
            " 619.         637.         507.         479.         235.\n",
            " 570.         784.         561.         656.         715.\n",
            " 788.         659.         721.         740.         611.\n",
            " 585.         562.         609.         719.         621.\n",
            " 400.         593.         648.         421.         653.\n",
            " 686.         469.         606.         671.         764.\n",
            " 756.         852.         401.         482.         662.\n",
            " 367.         601.         657.         617.         674.\n",
            " 632.         555.         395.         660.         576.\n",
            " 611.         657.         541.         775.         631.\n",
            " 450.         631.         748.         683.         697.\n",
            " 635.         603.         727.         701.         371.\n",
            " 634.         734.         530.         574.         619.\n",
            " 588.         554.         532.         551.         445.\n",
            " 490.         445.         253.         515.         231.\n",
            " 476.         487.         521.         399.         301.\n",
            " 443.         526.         270.         109.         442.\n",
            " 508.         603.         602.         521.         491.\n",
            " 149.         483.         606.         624.         721.\n",
            " 632.         749.         659.         572.         707.\n",
            " 712.         609.         607.         639.         573.\n",
            " 652.         668.         627.         592.         645.        ]\n"
          ],
          "name": "stdout"
        },
        {
          "output_type": "execute_result",
          "data": {
            "text/plain": [
              "(None, None)"
            ]
          },
          "metadata": {
            "tags": []
          },
          "execution_count": 19
        }
      ]
    },
    {
      "cell_type": "code",
      "metadata": {
        "id": "eXeYAZCtdQkz",
        "outputId": "5bdbb3d9-45ae-4420-ba6d-df4c81acbd57",
        "colab": {
          "base_uri": "https://localhost:8080/"
        }
      },
      "source": [
        "x.shape"
      ],
      "execution_count": 16,
      "outputs": [
        {
          "output_type": "execute_result",
          "data": {
            "text/plain": [
              "(360, 7)"
            ]
          },
          "metadata": {
            "tags": []
          },
          "execution_count": 16
        }
      ]
    },
    {
      "cell_type": "code",
      "metadata": {
        "id": "4ktledSndXZu"
      },
      "source": [
        "z_axix=1\n",
        "x=x.reshape((x.shape[0],x.shape[1],z_axix))\n"
      ],
      "execution_count": 17,
      "outputs": []
    },
    {
      "cell_type": "code",
      "metadata": {
        "id": "TqcmAgPXdrgp",
        "outputId": "d740eedc-16ba-464b-95ac-cf9a65709001",
        "colab": {
          "base_uri": "https://localhost:8080/"
        }
      },
      "source": [
        "x.shape"
      ],
      "execution_count": 18,
      "outputs": [
        {
          "output_type": "execute_result",
          "data": {
            "text/plain": [
              "(360, 7, 1)"
            ]
          },
          "metadata": {
            "tags": []
          },
          "execution_count": 18
        }
      ]
    },
    {
      "cell_type": "markdown",
      "metadata": {
        "id": "vNBfGUqHdyg-"
      },
      "source": [
        "**Building LSTM Model**"
      ]
    },
    {
      "cell_type": "code",
      "metadata": {
        "id": "p8wn4Uj3d5cE",
        "outputId": "f074b5a9-4ac5-477a-9fab-fdea739a43bd",
        "colab": {
          "base_uri": "https://localhost:8080/"
        }
      },
      "source": [
        "model = Sequential()\n",
        "model.add(LSTM(50,activation = 'relu',return_sequences= True,input_shape=(time_steps, z_axix)))\n",
        "model.add(LSTM(50,activation = 'relu'))\n",
        "model.add(Dense(1))\n",
        "model.compile(optimizer='adam', loss = 'mse')\n",
        "model.fit(x,y, epochs =100,verbose=0)"
      ],
      "execution_count": 22,
      "outputs": [
        {
          "output_type": "execute_result",
          "data": {
            "text/plain": [
              "<tensorflow.python.keras.callbacks.History at 0x7f7249e5cf28>"
            ]
          },
          "metadata": {
            "tags": []
          },
          "execution_count": 22
        }
      ]
    }
  ]
}