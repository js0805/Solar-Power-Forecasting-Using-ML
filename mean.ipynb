{
  "nbformat": 4,
  "nbformat_minor": 0,
  "metadata": {
    "colab": {
      "name": "Untitled2.ipynb",
      "provenance": [],
      "collapsed_sections": []
    },
    "kernelspec": {
      "name": "python3",
      "display_name": "Python 3"
    }
  },
  "cells": [
    {
      "cell_type": "code",
      "metadata": {
        "id": "navfG62MJrLX"
      },
      "source": [
        "import pandas as pd\n"
      ],
      "execution_count": null,
      "outputs": []
    },
    {
      "cell_type": "markdown",
      "metadata": {
        "id": "pPy6_vL_XeOj"
      },
      "source": [
        "**INSERTING DATA**\n",
        "\n"
      ]
    },
    {
      "cell_type": "code",
      "metadata": {
        "id": "uIGX6V1FO7WZ"
      },
      "source": [
        "df=pd.read_csv('C:\\Users\\bhanu\\jupyter\\files\\New\\datasheet.csv')"
      ],
      "execution_count": null,
      "outputs": []
    },
    {
      "cell_type": "code",
      "metadata": {
        "id": "-skLRHGdPThk",
        "outputId": "6c1a65a9-e780-4426-e3a2-6e6524420467",
        "colab": {
          "base_uri": "https://localhost:8080/",
          "height": 195
        }
      },
      "source": [
        "df.head()\n",
        "\n"
      ],
      "execution_count": null,
      "outputs": [
        {
          "output_type": "execute_result",
          "data": {
            "text/html": [
              "<div>\n",
              "<style scoped>\n",
              "    .dataframe tbody tr th:only-of-type {\n",
              "        vertical-align: middle;\n",
              "    }\n",
              "\n",
              "    .dataframe tbody tr th {\n",
              "        vertical-align: top;\n",
              "    }\n",
              "\n",
              "    .dataframe thead th {\n",
              "        text-align: right;\n",
              "    }\n",
              "</style>\n",
              "<table border=\"1\" class=\"dataframe\">\n",
              "  <thead>\n",
              "    <tr style=\"text-align: right;\">\n",
              "      <th></th>\n",
              "      <th>From Date</th>\n",
              "      <th>To Date</th>\n",
              "      <th>AT</th>\n",
              "      <th>RH</th>\n",
              "      <th>SR</th>\n",
              "      <th>WS</th>\n",
              "      <th>Energy</th>\n",
              "    </tr>\n",
              "  </thead>\n",
              "  <tbody>\n",
              "    <tr>\n",
              "      <th>0</th>\n",
              "      <td>17-09-2019 00:00</td>\n",
              "      <td>18-09-2019 00:00</td>\n",
              "      <td>26.60</td>\n",
              "      <td>86.83</td>\n",
              "      <td>192.03</td>\n",
              "      <td>1.34</td>\n",
              "      <td>483.0</td>\n",
              "    </tr>\n",
              "    <tr>\n",
              "      <th>1</th>\n",
              "      <td>18-09-2019 00:00</td>\n",
              "      <td>19-09-2019 00:00</td>\n",
              "      <td>26.10</td>\n",
              "      <td>89.25</td>\n",
              "      <td>108.98</td>\n",
              "      <td>1.08</td>\n",
              "      <td>371.0</td>\n",
              "    </tr>\n",
              "    <tr>\n",
              "      <th>2</th>\n",
              "      <td>19-09-2019 00:00</td>\n",
              "      <td>20-09-2019 00:00</td>\n",
              "      <td>27.66</td>\n",
              "      <td>80.99</td>\n",
              "      <td>172.50</td>\n",
              "      <td>0.92</td>\n",
              "      <td>551.0</td>\n",
              "    </tr>\n",
              "    <tr>\n",
              "      <th>3</th>\n",
              "      <td>20-09-2019 00:00</td>\n",
              "      <td>21-09-2019 00:00</td>\n",
              "      <td>27.77</td>\n",
              "      <td>82.71</td>\n",
              "      <td>165.78</td>\n",
              "      <td>0.78</td>\n",
              "      <td>614.0</td>\n",
              "    </tr>\n",
              "    <tr>\n",
              "      <th>4</th>\n",
              "      <td>21-09-2019 00:00</td>\n",
              "      <td>22-09-2019 00:00</td>\n",
              "      <td>27.75</td>\n",
              "      <td>83.06</td>\n",
              "      <td>145.68</td>\n",
              "      <td>0.69</td>\n",
              "      <td>491.0</td>\n",
              "    </tr>\n",
              "  </tbody>\n",
              "</table>\n",
              "</div>"
            ],
            "text/plain": [
              "          From Date           To Date     AT     RH      SR    WS  Energy\n",
              "0  17-09-2019 00:00  18-09-2019 00:00  26.60  86.83  192.03  1.34   483.0\n",
              "1  18-09-2019 00:00  19-09-2019 00:00  26.10  89.25  108.98  1.08   371.0\n",
              "2  19-09-2019 00:00  20-09-2019 00:00  27.66  80.99  172.50  0.92   551.0\n",
              "3  20-09-2019 00:00  21-09-2019 00:00  27.77  82.71  165.78  0.78   614.0\n",
              "4  21-09-2019 00:00  22-09-2019 00:00  27.75  83.06  145.68  0.69   491.0"
            ]
          },
          "metadata": {
            "tags": []
          },
          "execution_count": 16
        }
      ]
    },
    {
      "cell_type": "code",
      "metadata": {
        "id": "yGr-oiizQltt",
        "outputId": "5f02ebd0-fb83-4112-8836-2443451ddd81",
        "colab": {
          "base_uri": "https://localhost:8080/",
          "height": 252
        }
      },
      "source": [
        "df.info()"
      ],
      "execution_count": null,
      "outputs": [
        {
          "output_type": "stream",
          "text": [
            "<class 'pandas.core.frame.DataFrame'>\n",
            "RangeIndex: 367 entries, 0 to 366\n",
            "Data columns (total 7 columns):\n",
            " #   Column     Non-Null Count  Dtype         \n",
            "---  ------     --------------  -----         \n",
            " 0   From_Date  367 non-null    datetime64[ns]\n",
            " 1   To_Date    367 non-null    datetime64[ns]\n",
            " 2   AT         358 non-null    float64       \n",
            " 3   RH         358 non-null    float64       \n",
            " 4   SR         358 non-null    float64       \n",
            " 5   WS         358 non-null    float64       \n",
            " 6   Energy     358 non-null    float64       \n",
            "dtypes: datetime64[ns](2), float64(5)\n",
            "memory usage: 20.2 KB\n"
          ],
          "name": "stdout"
        }
      ]
    },
    {
      "cell_type": "code",
      "metadata": {
        "id": "ANQVkPpRSE6J",
        "outputId": "fe132d74-455d-4191-8b32-a33098fd54e3",
        "colab": {
          "base_uri": "https://localhost:8080/",
          "height": 284
        }
      },
      "source": [
        "df.describe()"
      ],
      "execution_count": null,
      "outputs": [
        {
          "output_type": "execute_result",
          "data": {
            "text/html": [
              "<div>\n",
              "<style scoped>\n",
              "    .dataframe tbody tr th:only-of-type {\n",
              "        vertical-align: middle;\n",
              "    }\n",
              "\n",
              "    .dataframe tbody tr th {\n",
              "        vertical-align: top;\n",
              "    }\n",
              "\n",
              "    .dataframe thead th {\n",
              "        text-align: right;\n",
              "    }\n",
              "</style>\n",
              "<table border=\"1\" class=\"dataframe\">\n",
              "  <thead>\n",
              "    <tr style=\"text-align: right;\">\n",
              "      <th></th>\n",
              "      <th>AT</th>\n",
              "      <th>RH</th>\n",
              "      <th>SR</th>\n",
              "      <th>WS</th>\n",
              "      <th>Energy</th>\n",
              "    </tr>\n",
              "  </thead>\n",
              "  <tbody>\n",
              "    <tr>\n",
              "      <th>count</th>\n",
              "      <td>358.000000</td>\n",
              "      <td>358.000000</td>\n",
              "      <td>358.000000</td>\n",
              "      <td>358.000000</td>\n",
              "      <td>358.000000</td>\n",
              "    </tr>\n",
              "    <tr>\n",
              "      <th>mean</th>\n",
              "      <td>25.811285</td>\n",
              "      <td>60.159413</td>\n",
              "      <td>164.287430</td>\n",
              "      <td>0.969385</td>\n",
              "      <td>612.776536</td>\n",
              "    </tr>\n",
              "    <tr>\n",
              "      <th>std</th>\n",
              "      <td>4.792811</td>\n",
              "      <td>19.764985</td>\n",
              "      <td>32.173579</td>\n",
              "      <td>0.258796</td>\n",
              "      <td>132.143396</td>\n",
              "    </tr>\n",
              "    <tr>\n",
              "      <th>min</th>\n",
              "      <td>13.340000</td>\n",
              "      <td>15.760000</td>\n",
              "      <td>29.960000</td>\n",
              "      <td>0.500000</td>\n",
              "      <td>95.000000</td>\n",
              "    </tr>\n",
              "    <tr>\n",
              "      <th>25%</th>\n",
              "      <td>23.390000</td>\n",
              "      <td>45.860000</td>\n",
              "      <td>148.007500</td>\n",
              "      <td>0.790000</td>\n",
              "      <td>555.000000</td>\n",
              "    </tr>\n",
              "    <tr>\n",
              "      <th>50%</th>\n",
              "      <td>26.090000</td>\n",
              "      <td>61.810000</td>\n",
              "      <td>169.105000</td>\n",
              "      <td>0.930000</td>\n",
              "      <td>636.000000</td>\n",
              "    </tr>\n",
              "    <tr>\n",
              "      <th>75%</th>\n",
              "      <td>28.595000</td>\n",
              "      <td>76.992500</td>\n",
              "      <td>187.192500</td>\n",
              "      <td>1.150000</td>\n",
              "      <td>701.000000</td>\n",
              "    </tr>\n",
              "    <tr>\n",
              "      <th>max</th>\n",
              "      <td>35.950000</td>\n",
              "      <td>93.380000</td>\n",
              "      <td>251.160000</td>\n",
              "      <td>1.780000</td>\n",
              "      <td>910.000000</td>\n",
              "    </tr>\n",
              "  </tbody>\n",
              "</table>\n",
              "</div>"
            ],
            "text/plain": [
              "               AT          RH          SR          WS      Energy\n",
              "count  358.000000  358.000000  358.000000  358.000000  358.000000\n",
              "mean    25.811285   60.159413  164.287430    0.969385  612.776536\n",
              "std      4.792811   19.764985   32.173579    0.258796  132.143396\n",
              "min     13.340000   15.760000   29.960000    0.500000   95.000000\n",
              "25%     23.390000   45.860000  148.007500    0.790000  555.000000\n",
              "50%     26.090000   61.810000  169.105000    0.930000  636.000000\n",
              "75%     28.595000   76.992500  187.192500    1.150000  701.000000\n",
              "max     35.950000   93.380000  251.160000    1.780000  910.000000"
            ]
          },
          "metadata": {
            "tags": []
          },
          "execution_count": 36
        }
      ]
    },
    {
      "cell_type": "code",
      "metadata": {
        "id": "Cun6UcWhYNQ9",
        "outputId": "561acb48-59b8-4781-d02a-978b90cef4cf",
        "colab": {
          "base_uri": "https://localhost:8080/",
          "height": 151
        }
      },
      "source": [
        "df.isnull().sum()"
      ],
      "execution_count": null,
      "outputs": [
        {
          "output_type": "execute_result",
          "data": {
            "text/plain": [
              "From_Date    0\n",
              "To_Date      0\n",
              "AT           9\n",
              "RH           9\n",
              "SR           9\n",
              "WS           9\n",
              "Energy       9\n",
              "dtype: int64"
            ]
          },
          "metadata": {
            "tags": []
          },
          "execution_count": 37
        }
      ]
    },
    {
      "cell_type": "markdown",
      "metadata": {
        "id": "qxfWwjBUrpcz"
      },
      "source": [
        "Renaming the column \"From Date\" and \"To Date\" to remove the space"
      ]
    },
    {
      "cell_type": "code",
      "metadata": {
        "id": "JG-Fmj-jcXDb"
      },
      "source": [
        "df.rename(columns={'From Date':'From_Date','To Date':'To_Date'},inplace=True)"
      ],
      "execution_count": null,
      "outputs": []
    },
    {
      "cell_type": "markdown",
      "metadata": {
        "id": "GROM6l8fr9rN"
      },
      "source": [
        "Changing the data type of columns \"From_Date\" and \"To Date\" to datetime"
      ]
    },
    {
      "cell_type": "code",
      "metadata": {
        "id": "3CULYj5OZBuf"
      },
      "source": [
        "df['From_Date']=pd.to_datetime(df.From_Date)\n",
        "df['To_Date']=pd.to_datetime(df.To_Date)"
      ],
      "execution_count": null,
      "outputs": []
    },
    {
      "cell_type": "markdown",
      "metadata": {
        "id": "HLoFCb6NsQfF"
      },
      "source": [
        "Adding a column named 'Month'"
      ]
    },
    {
      "cell_type": "code",
      "metadata": {
        "id": "JIWx-BN8f6Jl"
      },
      "source": [
        "df['Month']=df['From_Date'].dt.month"
      ],
      "execution_count": null,
      "outputs": []
    },
    {
      "cell_type": "code",
      "metadata": {
        "id": "YxcwAFi6dWgl",
        "outputId": "17b5756a-5c57-4615-aa7a-17596e0ee4b0",
        "colab": {
          "base_uri": "https://localhost:8080/",
          "height": 195
        }
      },
      "source": [
        "df.tail()"
      ],
      "execution_count": null,
      "outputs": [
        {
          "output_type": "execute_result",
          "data": {
            "text/html": [
              "<div>\n",
              "<style scoped>\n",
              "    .dataframe tbody tr th:only-of-type {\n",
              "        vertical-align: middle;\n",
              "    }\n",
              "\n",
              "    .dataframe tbody tr th {\n",
              "        vertical-align: top;\n",
              "    }\n",
              "\n",
              "    .dataframe thead th {\n",
              "        text-align: right;\n",
              "    }\n",
              "</style>\n",
              "<table border=\"1\" class=\"dataframe\">\n",
              "  <thead>\n",
              "    <tr style=\"text-align: right;\">\n",
              "      <th></th>\n",
              "      <th>From_Date</th>\n",
              "      <th>To_Date</th>\n",
              "      <th>AT</th>\n",
              "      <th>RH</th>\n",
              "      <th>SR</th>\n",
              "      <th>WS</th>\n",
              "      <th>Energy</th>\n",
              "      <th>Month</th>\n",
              "    </tr>\n",
              "  </thead>\n",
              "  <tbody>\n",
              "    <tr>\n",
              "      <th>362</th>\n",
              "      <td>2020-09-13</td>\n",
              "      <td>2020-09-14</td>\n",
              "      <td>28.89</td>\n",
              "      <td>72.65</td>\n",
              "      <td>159.55</td>\n",
              "      <td>0.67</td>\n",
              "      <td>652.0</td>\n",
              "      <td>9</td>\n",
              "    </tr>\n",
              "    <tr>\n",
              "      <th>363</th>\n",
              "      <td>2020-09-14</td>\n",
              "      <td>2020-09-15</td>\n",
              "      <td>27.43</td>\n",
              "      <td>78.53</td>\n",
              "      <td>145.24</td>\n",
              "      <td>0.77</td>\n",
              "      <td>668.0</td>\n",
              "      <td>9</td>\n",
              "    </tr>\n",
              "    <tr>\n",
              "      <th>364</th>\n",
              "      <td>2020-09-15</td>\n",
              "      <td>2020-09-16</td>\n",
              "      <td>27.04</td>\n",
              "      <td>81.43</td>\n",
              "      <td>152.82</td>\n",
              "      <td>0.82</td>\n",
              "      <td>627.0</td>\n",
              "      <td>9</td>\n",
              "    </tr>\n",
              "    <tr>\n",
              "      <th>365</th>\n",
              "      <td>2020-09-16</td>\n",
              "      <td>2020-09-17</td>\n",
              "      <td>27.78</td>\n",
              "      <td>77.99</td>\n",
              "      <td>147.96</td>\n",
              "      <td>0.78</td>\n",
              "      <td>592.0</td>\n",
              "      <td>9</td>\n",
              "    </tr>\n",
              "    <tr>\n",
              "      <th>366</th>\n",
              "      <td>2020-09-17</td>\n",
              "      <td>2020-09-18</td>\n",
              "      <td>25.75</td>\n",
              "      <td>84.50</td>\n",
              "      <td>130.00</td>\n",
              "      <td>0.80</td>\n",
              "      <td>645.0</td>\n",
              "      <td>9</td>\n",
              "    </tr>\n",
              "  </tbody>\n",
              "</table>\n",
              "</div>"
            ],
            "text/plain": [
              "     From_Date    To_Date     AT     RH      SR    WS  Energy  Month\n",
              "362 2020-09-13 2020-09-14  28.89  72.65  159.55  0.67   652.0      9\n",
              "363 2020-09-14 2020-09-15  27.43  78.53  145.24  0.77   668.0      9\n",
              "364 2020-09-15 2020-09-16  27.04  81.43  152.82  0.82   627.0      9\n",
              "365 2020-09-16 2020-09-17  27.78  77.99  147.96  0.78   592.0      9\n",
              "366 2020-09-17 2020-09-18  25.75  84.50  130.00  0.80   645.0      9"
            ]
          },
          "metadata": {
            "tags": []
          },
          "execution_count": 55
        }
      ]
    },
    {
      "cell_type": "markdown",
      "metadata": {
        "id": "RTUhobmZslfX"
      },
      "source": [
        "Replacing the 'Nan' values of the columns with the mean of those respective columns which is taken monthwise"
      ]
    },
    {
      "cell_type": "code",
      "metadata": {
        "id": "A_Zc96dIn9bW"
      },
      "source": [
        "df['AT'].fillna(df.groupby('Month')['AT'].transform('mean'),inplace=True)"
      ],
      "execution_count": null,
      "outputs": []
    },
    {
      "cell_type": "code",
      "metadata": {
        "id": "NQzTfn0XpTrE"
      },
      "source": [
        "df['RH'].fillna(df.groupby('Month')['RH'].transform('mean'),inplace=True)\n",
        "df['SR'].fillna(df.groupby('Month')['SR'].transform('mean'),inplace=True)\n",
        "df['WS'].fillna(df.groupby('Month')['WS'].transform('mean'),inplace=True)\n",
        "df['Energy'].fillna(df.groupby('Month')['Energy'].transform('mean'),inplace=True)"
      ],
      "execution_count": null,
      "outputs": []
    },
    {
      "cell_type": "code",
      "metadata": {
        "id": "c1PUVobzpzhq",
        "outputId": "42fd0d5e-e032-4c47-bbe6-730f3523bd7f",
        "colab": {
          "base_uri": "https://localhost:8080/",
          "height": 269
        }
      },
      "source": [
        "df.info()"
      ],
      "execution_count": null,
      "outputs": [
        {
          "output_type": "stream",
          "text": [
            "<class 'pandas.core.frame.DataFrame'>\n",
            "RangeIndex: 367 entries, 0 to 366\n",
            "Data columns (total 8 columns):\n",
            " #   Column     Non-Null Count  Dtype         \n",
            "---  ------     --------------  -----         \n",
            " 0   From_Date  367 non-null    datetime64[ns]\n",
            " 1   To_Date    367 non-null    datetime64[ns]\n",
            " 2   AT         367 non-null    float64       \n",
            " 3   RH         367 non-null    float64       \n",
            " 4   SR         367 non-null    float64       \n",
            " 5   WS         367 non-null    float64       \n",
            " 6   Energy     367 non-null    float64       \n",
            " 7   Month      367 non-null    int64         \n",
            "dtypes: datetime64[ns](2), float64(5), int64(1)\n",
            "memory usage: 23.1 KB\n"
          ],
          "name": "stdout"
        }
      ]
    },
    {
      "cell_type": "code",
      "metadata": {
        "id": "FEGOfxZJwq1h",
        "outputId": "90e199b0-63b1-4a86-bdc3-fbea8f716dfc",
        "colab": {
          "base_uri": "https://localhost:8080/",
          "height": 168
        }
      },
      "source": [
        "df.iloc[202,:]"
      ],
      "execution_count": null,
      "outputs": [
        {
          "output_type": "execute_result",
          "data": {
            "text/plain": [
              "From_Date    2020-06-04 00:00:00\n",
              "To_Date      2020-07-04 00:00:00\n",
              "AT                       26.6528\n",
              "RH                       69.4634\n",
              "SR                         175.4\n",
              "WS                       1.01103\n",
              "Energy                       589\n",
              "Month                          6\n",
              "Name: 202, dtype: object"
            ]
          },
          "metadata": {
            "tags": []
          },
          "execution_count": 70
        }
      ]
    }
  ]
}