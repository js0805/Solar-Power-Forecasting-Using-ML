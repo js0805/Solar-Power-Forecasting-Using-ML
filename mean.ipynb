{
  "nbformat": 4,
  "nbformat_minor": 0,
  "metadata": {
    "colab": {
      "name": "mean.ipynb",
      "provenance": [],
      "collapsed_sections": [],
      "include_colab_link": true
    },
    "kernelspec": {
      "name": "python3",
      "display_name": "Python 3"
    }
  },
  "cells": [
    {
      "cell_type": "markdown",
      "metadata": {
        "id": "view-in-github",
        "colab_type": "text"
      },
      "source": [
        "<a href=\"https://colab.research.google.com/github/js0805/solar_photovoltaics_prediction_-_analytics/blob/master/mean.ipynb\" target=\"_parent\"><img src=\"https://colab.research.google.com/assets/colab-badge.svg\" alt=\"Open In Colab\"/></a>"
      ]
    },
    {
      "cell_type": "code",
      "metadata": {
        "id": "navfG62MJrLX"
      },
      "source": [
        "import pandas as pd\n"
      ],
      "execution_count": 3,
      "outputs": []
    },
    {
      "cell_type": "markdown",
      "metadata": {
        "id": "pPy6_vL_XeOj"
      },
      "source": [
        "**INSERTING DATA**\n",
        "\n"
      ]
    },
    {
      "cell_type": "code",
      "metadata": {
        "id": "uIGX6V1FO7WZ"
      },
      "source": [
        "df=pd.read_csv('/content/datasheet.csv')"
      ],
      "execution_count": 4,
      "outputs": []
    },
    {
      "cell_type": "code",
      "metadata": {
        "id": "-skLRHGdPThk",
        "outputId": "3c583924-0a35-4192-ae1c-69abd574e7a0",
        "colab": {
          "base_uri": "https://localhost:8080/",
          "height": 195
        }
      },
      "source": [
        "df.head()\n",
        "\n"
      ],
      "execution_count": 5,
      "outputs": [
        {
          "output_type": "execute_result",
          "data": {
            "text/html": [
              "<div>\n",
              "<style scoped>\n",
              "    .dataframe tbody tr th:only-of-type {\n",
              "        vertical-align: middle;\n",
              "    }\n",
              "\n",
              "    .dataframe tbody tr th {\n",
              "        vertical-align: top;\n",
              "    }\n",
              "\n",
              "    .dataframe thead th {\n",
              "        text-align: right;\n",
              "    }\n",
              "</style>\n",
              "<table border=\"1\" class=\"dataframe\">\n",
              "  <thead>\n",
              "    <tr style=\"text-align: right;\">\n",
              "      <th></th>\n",
              "      <th>From Date</th>\n",
              "      <th>To Date</th>\n",
              "      <th>AT</th>\n",
              "      <th>RH</th>\n",
              "      <th>SR</th>\n",
              "      <th>WS</th>\n",
              "      <th>Energy</th>\n",
              "    </tr>\n",
              "  </thead>\n",
              "  <tbody>\n",
              "    <tr>\n",
              "      <th>0</th>\n",
              "      <td>17-09-2019 00:00</td>\n",
              "      <td>18-09-2019 00:00</td>\n",
              "      <td>26.60</td>\n",
              "      <td>86.83</td>\n",
              "      <td>192.03</td>\n",
              "      <td>1.34</td>\n",
              "      <td>483.0</td>\n",
              "    </tr>\n",
              "    <tr>\n",
              "      <th>1</th>\n",
              "      <td>18-09-2019 00:00</td>\n",
              "      <td>19-09-2019 00:00</td>\n",
              "      <td>26.10</td>\n",
              "      <td>89.25</td>\n",
              "      <td>108.98</td>\n",
              "      <td>1.08</td>\n",
              "      <td>371.0</td>\n",
              "    </tr>\n",
              "    <tr>\n",
              "      <th>2</th>\n",
              "      <td>19-09-2019 00:00</td>\n",
              "      <td>20-09-2019 00:00</td>\n",
              "      <td>27.66</td>\n",
              "      <td>80.99</td>\n",
              "      <td>172.50</td>\n",
              "      <td>0.92</td>\n",
              "      <td>551.0</td>\n",
              "    </tr>\n",
              "    <tr>\n",
              "      <th>3</th>\n",
              "      <td>20-09-2019 00:00</td>\n",
              "      <td>21-09-2019 00:00</td>\n",
              "      <td>27.77</td>\n",
              "      <td>82.71</td>\n",
              "      <td>165.78</td>\n",
              "      <td>0.78</td>\n",
              "      <td>614.0</td>\n",
              "    </tr>\n",
              "    <tr>\n",
              "      <th>4</th>\n",
              "      <td>21-09-2019 00:00</td>\n",
              "      <td>22-09-2019 00:00</td>\n",
              "      <td>27.75</td>\n",
              "      <td>83.06</td>\n",
              "      <td>145.68</td>\n",
              "      <td>0.69</td>\n",
              "      <td>491.0</td>\n",
              "    </tr>\n",
              "  </tbody>\n",
              "</table>\n",
              "</div>"
            ],
            "text/plain": [
              "          From Date           To Date     AT     RH      SR    WS  Energy\n",
              "0  17-09-2019 00:00  18-09-2019 00:00  26.60  86.83  192.03  1.34   483.0\n",
              "1  18-09-2019 00:00  19-09-2019 00:00  26.10  89.25  108.98  1.08   371.0\n",
              "2  19-09-2019 00:00  20-09-2019 00:00  27.66  80.99  172.50  0.92   551.0\n",
              "3  20-09-2019 00:00  21-09-2019 00:00  27.77  82.71  165.78  0.78   614.0\n",
              "4  21-09-2019 00:00  22-09-2019 00:00  27.75  83.06  145.68  0.69   491.0"
            ]
          },
          "metadata": {
            "tags": []
          },
          "execution_count": 5
        }
      ]
    },
    {
      "cell_type": "code",
      "metadata": {
        "id": "yGr-oiizQltt",
        "outputId": "a74e8dd7-5e12-4a79-e82f-d83d785653e0",
        "colab": {
          "base_uri": "https://localhost:8080/"
        }
      },
      "source": [
        "df.info()"
      ],
      "execution_count": 6,
      "outputs": [
        {
          "output_type": "stream",
          "text": [
            "<class 'pandas.core.frame.DataFrame'>\n",
            "RangeIndex: 367 entries, 0 to 366\n",
            "Data columns (total 7 columns):\n",
            " #   Column     Non-Null Count  Dtype  \n",
            "---  ------     --------------  -----  \n",
            " 0   From Date  367 non-null    object \n",
            " 1   To Date    367 non-null    object \n",
            " 2   AT         358 non-null    float64\n",
            " 3   RH         358 non-null    float64\n",
            " 4   SR         358 non-null    float64\n",
            " 5   WS         358 non-null    float64\n",
            " 6   Energy     358 non-null    float64\n",
            "dtypes: float64(5), object(2)\n",
            "memory usage: 20.2+ KB\n"
          ],
          "name": "stdout"
        }
      ]
    },
    {
      "cell_type": "code",
      "metadata": {
        "id": "ANQVkPpRSE6J",
        "outputId": "7abb9aa4-770d-4c63-9875-58c38029b6e5",
        "colab": {
          "base_uri": "https://localhost:8080/",
          "height": 284
        }
      },
      "source": [
        "df.describe()"
      ],
      "execution_count": 7,
      "outputs": [
        {
          "output_type": "execute_result",
          "data": {
            "text/html": [
              "<div>\n",
              "<style scoped>\n",
              "    .dataframe tbody tr th:only-of-type {\n",
              "        vertical-align: middle;\n",
              "    }\n",
              "\n",
              "    .dataframe tbody tr th {\n",
              "        vertical-align: top;\n",
              "    }\n",
              "\n",
              "    .dataframe thead th {\n",
              "        text-align: right;\n",
              "    }\n",
              "</style>\n",
              "<table border=\"1\" class=\"dataframe\">\n",
              "  <thead>\n",
              "    <tr style=\"text-align: right;\">\n",
              "      <th></th>\n",
              "      <th>AT</th>\n",
              "      <th>RH</th>\n",
              "      <th>SR</th>\n",
              "      <th>WS</th>\n",
              "      <th>Energy</th>\n",
              "    </tr>\n",
              "  </thead>\n",
              "  <tbody>\n",
              "    <tr>\n",
              "      <th>count</th>\n",
              "      <td>358.000000</td>\n",
              "      <td>358.000000</td>\n",
              "      <td>358.000000</td>\n",
              "      <td>358.000000</td>\n",
              "      <td>358.000000</td>\n",
              "    </tr>\n",
              "    <tr>\n",
              "      <th>mean</th>\n",
              "      <td>25.811285</td>\n",
              "      <td>60.159413</td>\n",
              "      <td>164.287430</td>\n",
              "      <td>0.969385</td>\n",
              "      <td>612.776536</td>\n",
              "    </tr>\n",
              "    <tr>\n",
              "      <th>std</th>\n",
              "      <td>4.792811</td>\n",
              "      <td>19.764985</td>\n",
              "      <td>32.173579</td>\n",
              "      <td>0.258796</td>\n",
              "      <td>132.143396</td>\n",
              "    </tr>\n",
              "    <tr>\n",
              "      <th>min</th>\n",
              "      <td>13.340000</td>\n",
              "      <td>15.760000</td>\n",
              "      <td>29.960000</td>\n",
              "      <td>0.500000</td>\n",
              "      <td>95.000000</td>\n",
              "    </tr>\n",
              "    <tr>\n",
              "      <th>25%</th>\n",
              "      <td>23.390000</td>\n",
              "      <td>45.860000</td>\n",
              "      <td>148.007500</td>\n",
              "      <td>0.790000</td>\n",
              "      <td>555.000000</td>\n",
              "    </tr>\n",
              "    <tr>\n",
              "      <th>50%</th>\n",
              "      <td>26.090000</td>\n",
              "      <td>61.810000</td>\n",
              "      <td>169.105000</td>\n",
              "      <td>0.930000</td>\n",
              "      <td>636.000000</td>\n",
              "    </tr>\n",
              "    <tr>\n",
              "      <th>75%</th>\n",
              "      <td>28.595000</td>\n",
              "      <td>76.992500</td>\n",
              "      <td>187.192500</td>\n",
              "      <td>1.150000</td>\n",
              "      <td>701.000000</td>\n",
              "    </tr>\n",
              "    <tr>\n",
              "      <th>max</th>\n",
              "      <td>35.950000</td>\n",
              "      <td>93.380000</td>\n",
              "      <td>251.160000</td>\n",
              "      <td>1.780000</td>\n",
              "      <td>910.000000</td>\n",
              "    </tr>\n",
              "  </tbody>\n",
              "</table>\n",
              "</div>"
            ],
            "text/plain": [
              "               AT          RH          SR          WS      Energy\n",
              "count  358.000000  358.000000  358.000000  358.000000  358.000000\n",
              "mean    25.811285   60.159413  164.287430    0.969385  612.776536\n",
              "std      4.792811   19.764985   32.173579    0.258796  132.143396\n",
              "min     13.340000   15.760000   29.960000    0.500000   95.000000\n",
              "25%     23.390000   45.860000  148.007500    0.790000  555.000000\n",
              "50%     26.090000   61.810000  169.105000    0.930000  636.000000\n",
              "75%     28.595000   76.992500  187.192500    1.150000  701.000000\n",
              "max     35.950000   93.380000  251.160000    1.780000  910.000000"
            ]
          },
          "metadata": {
            "tags": []
          },
          "execution_count": 7
        }
      ]
    },
    {
      "cell_type": "code",
      "metadata": {
        "id": "Cun6UcWhYNQ9",
        "outputId": "e2a86357-2ae7-4d15-cb74-68acfbe65f00",
        "colab": {
          "base_uri": "https://localhost:8080/"
        }
      },
      "source": [
        "df.isnull().sum()"
      ],
      "execution_count": 8,
      "outputs": [
        {
          "output_type": "execute_result",
          "data": {
            "text/plain": [
              "From Date    0\n",
              "To Date      0\n",
              "AT           9\n",
              "RH           9\n",
              "SR           9\n",
              "WS           9\n",
              "Energy       9\n",
              "dtype: int64"
            ]
          },
          "metadata": {
            "tags": []
          },
          "execution_count": 8
        }
      ]
    },
    {
      "cell_type": "markdown",
      "metadata": {
        "id": "qxfWwjBUrpcz"
      },
      "source": [
        "Renaming the column \"From Date\" and \"To Date\" to remove the space"
      ]
    },
    {
      "cell_type": "code",
      "metadata": {
        "id": "JG-Fmj-jcXDb"
      },
      "source": [
        "df.rename(columns={'From Date':'From_Date','To Date':'To_Date'},inplace=True)"
      ],
      "execution_count": 9,
      "outputs": []
    },
    {
      "cell_type": "markdown",
      "metadata": {
        "id": "GROM6l8fr9rN"
      },
      "source": [
        "Changing the data type of columns \"From_Date\" and \"To Date\" to datetime"
      ]
    },
    {
      "cell_type": "code",
      "metadata": {
        "id": "3CULYj5OZBuf"
      },
      "source": [
        "df['From_Date']=pd.to_datetime(df.From_Date)\n",
        "df['To_Date']=pd.to_datetime(df.To_Date)"
      ],
      "execution_count": 10,
      "outputs": []
    },
    {
      "cell_type": "markdown",
      "metadata": {
        "id": "HLoFCb6NsQfF"
      },
      "source": [
        "Adding a column named 'Month'"
      ]
    },
    {
      "cell_type": "code",
      "metadata": {
        "id": "JIWx-BN8f6Jl"
      },
      "source": [
        "df['Month']=df['From_Date'].dt.month"
      ],
      "execution_count": 11,
      "outputs": []
    },
    {
      "cell_type": "code",
      "metadata": {
        "id": "YxcwAFi6dWgl",
        "outputId": "2a8762ce-a4d8-43e8-d96d-b41ab22cfeb0",
        "colab": {
          "base_uri": "https://localhost:8080/",
          "height": 195
        }
      },
      "source": [
        "df.tail()"
      ],
      "execution_count": 12,
      "outputs": [
        {
          "output_type": "execute_result",
          "data": {
            "text/html": [
              "<div>\n",
              "<style scoped>\n",
              "    .dataframe tbody tr th:only-of-type {\n",
              "        vertical-align: middle;\n",
              "    }\n",
              "\n",
              "    .dataframe tbody tr th {\n",
              "        vertical-align: top;\n",
              "    }\n",
              "\n",
              "    .dataframe thead th {\n",
              "        text-align: right;\n",
              "    }\n",
              "</style>\n",
              "<table border=\"1\" class=\"dataframe\">\n",
              "  <thead>\n",
              "    <tr style=\"text-align: right;\">\n",
              "      <th></th>\n",
              "      <th>From_Date</th>\n",
              "      <th>To_Date</th>\n",
              "      <th>AT</th>\n",
              "      <th>RH</th>\n",
              "      <th>SR</th>\n",
              "      <th>WS</th>\n",
              "      <th>Energy</th>\n",
              "      <th>Month</th>\n",
              "    </tr>\n",
              "  </thead>\n",
              "  <tbody>\n",
              "    <tr>\n",
              "      <th>362</th>\n",
              "      <td>2020-09-13</td>\n",
              "      <td>2020-09-14</td>\n",
              "      <td>28.89</td>\n",
              "      <td>72.65</td>\n",
              "      <td>159.55</td>\n",
              "      <td>0.67</td>\n",
              "      <td>652.0</td>\n",
              "      <td>9</td>\n",
              "    </tr>\n",
              "    <tr>\n",
              "      <th>363</th>\n",
              "      <td>2020-09-14</td>\n",
              "      <td>2020-09-15</td>\n",
              "      <td>27.43</td>\n",
              "      <td>78.53</td>\n",
              "      <td>145.24</td>\n",
              "      <td>0.77</td>\n",
              "      <td>668.0</td>\n",
              "      <td>9</td>\n",
              "    </tr>\n",
              "    <tr>\n",
              "      <th>364</th>\n",
              "      <td>2020-09-15</td>\n",
              "      <td>2020-09-16</td>\n",
              "      <td>27.04</td>\n",
              "      <td>81.43</td>\n",
              "      <td>152.82</td>\n",
              "      <td>0.82</td>\n",
              "      <td>627.0</td>\n",
              "      <td>9</td>\n",
              "    </tr>\n",
              "    <tr>\n",
              "      <th>365</th>\n",
              "      <td>2020-09-16</td>\n",
              "      <td>2020-09-17</td>\n",
              "      <td>27.78</td>\n",
              "      <td>77.99</td>\n",
              "      <td>147.96</td>\n",
              "      <td>0.78</td>\n",
              "      <td>592.0</td>\n",
              "      <td>9</td>\n",
              "    </tr>\n",
              "    <tr>\n",
              "      <th>366</th>\n",
              "      <td>2020-09-17</td>\n",
              "      <td>2020-09-18</td>\n",
              "      <td>25.75</td>\n",
              "      <td>84.50</td>\n",
              "      <td>130.00</td>\n",
              "      <td>0.80</td>\n",
              "      <td>645.0</td>\n",
              "      <td>9</td>\n",
              "    </tr>\n",
              "  </tbody>\n",
              "</table>\n",
              "</div>"
            ],
            "text/plain": [
              "     From_Date    To_Date     AT     RH      SR    WS  Energy  Month\n",
              "362 2020-09-13 2020-09-14  28.89  72.65  159.55  0.67   652.0      9\n",
              "363 2020-09-14 2020-09-15  27.43  78.53  145.24  0.77   668.0      9\n",
              "364 2020-09-15 2020-09-16  27.04  81.43  152.82  0.82   627.0      9\n",
              "365 2020-09-16 2020-09-17  27.78  77.99  147.96  0.78   592.0      9\n",
              "366 2020-09-17 2020-09-18  25.75  84.50  130.00  0.80   645.0      9"
            ]
          },
          "metadata": {
            "tags": []
          },
          "execution_count": 12
        }
      ]
    },
    {
      "cell_type": "markdown",
      "metadata": {
        "id": "RTUhobmZslfX"
      },
      "source": [
        "Replacing the 'Nan' values of the columns with the mean of those respective columns which is taken monthwise"
      ]
    },
    {
      "cell_type": "code",
      "metadata": {
        "id": "A_Zc96dIn9bW"
      },
      "source": [
        "df['AT'].fillna(df.groupby('Month')['AT'].transform('mean'),inplace=True)"
      ],
      "execution_count": 13,
      "outputs": []
    },
    {
      "cell_type": "code",
      "metadata": {
        "id": "NQzTfn0XpTrE"
      },
      "source": [
        "df['RH'].fillna(df.groupby('Month')['RH'].transform('mean'),inplace=True)\n",
        "df['SR'].fillna(df.groupby('Month')['SR'].transform('mean'),inplace=True)\n",
        "df['WS'].fillna(df.groupby('Month')['WS'].transform('mean'),inplace=True)\n",
        "df['Energy'].fillna(df.groupby('Month')['Energy'].transform('mean'),inplace=True)"
      ],
      "execution_count": 14,
      "outputs": []
    },
    {
      "cell_type": "code",
      "metadata": {
        "id": "c1PUVobzpzhq",
        "outputId": "de874291-8223-4979-9712-9322ec85b133",
        "colab": {
          "base_uri": "https://localhost:8080/"
        }
      },
      "source": [
        "df.info()"
      ],
      "execution_count": 15,
      "outputs": [
        {
          "output_type": "stream",
          "text": [
            "<class 'pandas.core.frame.DataFrame'>\n",
            "RangeIndex: 367 entries, 0 to 366\n",
            "Data columns (total 8 columns):\n",
            " #   Column     Non-Null Count  Dtype         \n",
            "---  ------     --------------  -----         \n",
            " 0   From_Date  367 non-null    datetime64[ns]\n",
            " 1   To_Date    367 non-null    datetime64[ns]\n",
            " 2   AT         367 non-null    float64       \n",
            " 3   RH         367 non-null    float64       \n",
            " 4   SR         367 non-null    float64       \n",
            " 5   WS         367 non-null    float64       \n",
            " 6   Energy     367 non-null    float64       \n",
            " 7   Month      367 non-null    int64         \n",
            "dtypes: datetime64[ns](2), float64(5), int64(1)\n",
            "memory usage: 23.1 KB\n"
          ],
          "name": "stdout"
        }
      ]
    },
    {
      "cell_type": "code",
      "metadata": {
        "id": "FEGOfxZJwq1h",
        "outputId": "d299f27d-48d9-484a-b399-eb926c8a7220",
        "colab": {
          "base_uri": "https://localhost:8080/"
        }
      },
      "source": [
        "df.iloc[202,:]"
      ],
      "execution_count": 16,
      "outputs": [
        {
          "output_type": "execute_result",
          "data": {
            "text/plain": [
              "From_Date    2020-06-04 00:00:00\n",
              "To_Date      2020-07-04 00:00:00\n",
              "AT                       26.6528\n",
              "RH                       69.4634\n",
              "SR                         175.4\n",
              "WS                       1.01103\n",
              "Energy                       589\n",
              "Month                          6\n",
              "Name: 202, dtype: object"
            ]
          },
          "metadata": {
            "tags": []
          },
          "execution_count": 16
        }
      ]
    },
    {
      "cell_type": "code",
      "metadata": {
        "id": "lSA7Q3l3LBvt",
        "outputId": "2d67085e-5455-44e6-d236-5f2b7bfb968a",
        "colab": {
          "base_uri": "https://localhost:8080/",
          "height": 431
        }
      },
      "source": [
        "df.set_index('From_Date')"
      ],
      "execution_count": 17,
      "outputs": [
        {
          "output_type": "execute_result",
          "data": {
            "text/html": [
              "<div>\n",
              "<style scoped>\n",
              "    .dataframe tbody tr th:only-of-type {\n",
              "        vertical-align: middle;\n",
              "    }\n",
              "\n",
              "    .dataframe tbody tr th {\n",
              "        vertical-align: top;\n",
              "    }\n",
              "\n",
              "    .dataframe thead th {\n",
              "        text-align: right;\n",
              "    }\n",
              "</style>\n",
              "<table border=\"1\" class=\"dataframe\">\n",
              "  <thead>\n",
              "    <tr style=\"text-align: right;\">\n",
              "      <th></th>\n",
              "      <th>To_Date</th>\n",
              "      <th>AT</th>\n",
              "      <th>RH</th>\n",
              "      <th>SR</th>\n",
              "      <th>WS</th>\n",
              "      <th>Energy</th>\n",
              "      <th>Month</th>\n",
              "    </tr>\n",
              "    <tr>\n",
              "      <th>From_Date</th>\n",
              "      <th></th>\n",
              "      <th></th>\n",
              "      <th></th>\n",
              "      <th></th>\n",
              "      <th></th>\n",
              "      <th></th>\n",
              "      <th></th>\n",
              "    </tr>\n",
              "  </thead>\n",
              "  <tbody>\n",
              "    <tr>\n",
              "      <th>2019-09-17</th>\n",
              "      <td>2019-09-18</td>\n",
              "      <td>26.60</td>\n",
              "      <td>86.83</td>\n",
              "      <td>192.03</td>\n",
              "      <td>1.34</td>\n",
              "      <td>483.0</td>\n",
              "      <td>9</td>\n",
              "    </tr>\n",
              "    <tr>\n",
              "      <th>2019-09-18</th>\n",
              "      <td>2019-09-19</td>\n",
              "      <td>26.10</td>\n",
              "      <td>89.25</td>\n",
              "      <td>108.98</td>\n",
              "      <td>1.08</td>\n",
              "      <td>371.0</td>\n",
              "      <td>9</td>\n",
              "    </tr>\n",
              "    <tr>\n",
              "      <th>2019-09-19</th>\n",
              "      <td>2019-09-20</td>\n",
              "      <td>27.66</td>\n",
              "      <td>80.99</td>\n",
              "      <td>172.50</td>\n",
              "      <td>0.92</td>\n",
              "      <td>551.0</td>\n",
              "      <td>9</td>\n",
              "    </tr>\n",
              "    <tr>\n",
              "      <th>2019-09-20</th>\n",
              "      <td>2019-09-21</td>\n",
              "      <td>27.77</td>\n",
              "      <td>82.71</td>\n",
              "      <td>165.78</td>\n",
              "      <td>0.78</td>\n",
              "      <td>614.0</td>\n",
              "      <td>9</td>\n",
              "    </tr>\n",
              "    <tr>\n",
              "      <th>2019-09-21</th>\n",
              "      <td>2019-09-22</td>\n",
              "      <td>27.75</td>\n",
              "      <td>83.06</td>\n",
              "      <td>145.68</td>\n",
              "      <td>0.69</td>\n",
              "      <td>491.0</td>\n",
              "      <td>9</td>\n",
              "    </tr>\n",
              "    <tr>\n",
              "      <th>...</th>\n",
              "      <td>...</td>\n",
              "      <td>...</td>\n",
              "      <td>...</td>\n",
              "      <td>...</td>\n",
              "      <td>...</td>\n",
              "      <td>...</td>\n",
              "      <td>...</td>\n",
              "    </tr>\n",
              "    <tr>\n",
              "      <th>2020-09-13</th>\n",
              "      <td>2020-09-14</td>\n",
              "      <td>28.89</td>\n",
              "      <td>72.65</td>\n",
              "      <td>159.55</td>\n",
              "      <td>0.67</td>\n",
              "      <td>652.0</td>\n",
              "      <td>9</td>\n",
              "    </tr>\n",
              "    <tr>\n",
              "      <th>2020-09-14</th>\n",
              "      <td>2020-09-15</td>\n",
              "      <td>27.43</td>\n",
              "      <td>78.53</td>\n",
              "      <td>145.24</td>\n",
              "      <td>0.77</td>\n",
              "      <td>668.0</td>\n",
              "      <td>9</td>\n",
              "    </tr>\n",
              "    <tr>\n",
              "      <th>2020-09-15</th>\n",
              "      <td>2020-09-16</td>\n",
              "      <td>27.04</td>\n",
              "      <td>81.43</td>\n",
              "      <td>152.82</td>\n",
              "      <td>0.82</td>\n",
              "      <td>627.0</td>\n",
              "      <td>9</td>\n",
              "    </tr>\n",
              "    <tr>\n",
              "      <th>2020-09-16</th>\n",
              "      <td>2020-09-17</td>\n",
              "      <td>27.78</td>\n",
              "      <td>77.99</td>\n",
              "      <td>147.96</td>\n",
              "      <td>0.78</td>\n",
              "      <td>592.0</td>\n",
              "      <td>9</td>\n",
              "    </tr>\n",
              "    <tr>\n",
              "      <th>2020-09-17</th>\n",
              "      <td>2020-09-18</td>\n",
              "      <td>25.75</td>\n",
              "      <td>84.50</td>\n",
              "      <td>130.00</td>\n",
              "      <td>0.80</td>\n",
              "      <td>645.0</td>\n",
              "      <td>9</td>\n",
              "    </tr>\n",
              "  </tbody>\n",
              "</table>\n",
              "<p>367 rows × 7 columns</p>\n",
              "</div>"
            ],
            "text/plain": [
              "              To_Date     AT     RH      SR    WS  Energy  Month\n",
              "From_Date                                                       \n",
              "2019-09-17 2019-09-18  26.60  86.83  192.03  1.34   483.0      9\n",
              "2019-09-18 2019-09-19  26.10  89.25  108.98  1.08   371.0      9\n",
              "2019-09-19 2019-09-20  27.66  80.99  172.50  0.92   551.0      9\n",
              "2019-09-20 2019-09-21  27.77  82.71  165.78  0.78   614.0      9\n",
              "2019-09-21 2019-09-22  27.75  83.06  145.68  0.69   491.0      9\n",
              "...               ...    ...    ...     ...   ...     ...    ...\n",
              "2020-09-13 2020-09-14  28.89  72.65  159.55  0.67   652.0      9\n",
              "2020-09-14 2020-09-15  27.43  78.53  145.24  0.77   668.0      9\n",
              "2020-09-15 2020-09-16  27.04  81.43  152.82  0.82   627.0      9\n",
              "2020-09-16 2020-09-17  27.78  77.99  147.96  0.78   592.0      9\n",
              "2020-09-17 2020-09-18  25.75  84.50  130.00  0.80   645.0      9\n",
              "\n",
              "[367 rows x 7 columns]"
            ]
          },
          "metadata": {
            "tags": []
          },
          "execution_count": 17
        }
      ]
    },
    {
      "cell_type": "code",
      "metadata": {
        "id": "OcA03-mfh2Xo",
        "outputId": "17fd1463-0a4b-4ece-afef-a919d5e008fd",
        "colab": {
          "base_uri": "https://localhost:8080/",
          "height": 402
        }
      },
      "source": [
        "df"
      ],
      "execution_count": 19,
      "outputs": [
        {
          "output_type": "execute_result",
          "data": {
            "text/html": [
              "<div>\n",
              "<style scoped>\n",
              "    .dataframe tbody tr th:only-of-type {\n",
              "        vertical-align: middle;\n",
              "    }\n",
              "\n",
              "    .dataframe tbody tr th {\n",
              "        vertical-align: top;\n",
              "    }\n",
              "\n",
              "    .dataframe thead th {\n",
              "        text-align: right;\n",
              "    }\n",
              "</style>\n",
              "<table border=\"1\" class=\"dataframe\">\n",
              "  <thead>\n",
              "    <tr style=\"text-align: right;\">\n",
              "      <th></th>\n",
              "      <th>From_Date</th>\n",
              "      <th>To_Date</th>\n",
              "      <th>AT</th>\n",
              "      <th>RH</th>\n",
              "      <th>SR</th>\n",
              "      <th>WS</th>\n",
              "      <th>Energy</th>\n",
              "      <th>Month</th>\n",
              "    </tr>\n",
              "  </thead>\n",
              "  <tbody>\n",
              "    <tr>\n",
              "      <th>0</th>\n",
              "      <td>2019-09-17</td>\n",
              "      <td>2019-09-18</td>\n",
              "      <td>26.60</td>\n",
              "      <td>86.83</td>\n",
              "      <td>192.03</td>\n",
              "      <td>1.34</td>\n",
              "      <td>483.0</td>\n",
              "      <td>9</td>\n",
              "    </tr>\n",
              "    <tr>\n",
              "      <th>1</th>\n",
              "      <td>2019-09-18</td>\n",
              "      <td>2019-09-19</td>\n",
              "      <td>26.10</td>\n",
              "      <td>89.25</td>\n",
              "      <td>108.98</td>\n",
              "      <td>1.08</td>\n",
              "      <td>371.0</td>\n",
              "      <td>9</td>\n",
              "    </tr>\n",
              "    <tr>\n",
              "      <th>2</th>\n",
              "      <td>2019-09-19</td>\n",
              "      <td>2019-09-20</td>\n",
              "      <td>27.66</td>\n",
              "      <td>80.99</td>\n",
              "      <td>172.50</td>\n",
              "      <td>0.92</td>\n",
              "      <td>551.0</td>\n",
              "      <td>9</td>\n",
              "    </tr>\n",
              "    <tr>\n",
              "      <th>3</th>\n",
              "      <td>2019-09-20</td>\n",
              "      <td>2019-09-21</td>\n",
              "      <td>27.77</td>\n",
              "      <td>82.71</td>\n",
              "      <td>165.78</td>\n",
              "      <td>0.78</td>\n",
              "      <td>614.0</td>\n",
              "      <td>9</td>\n",
              "    </tr>\n",
              "    <tr>\n",
              "      <th>4</th>\n",
              "      <td>2019-09-21</td>\n",
              "      <td>2019-09-22</td>\n",
              "      <td>27.75</td>\n",
              "      <td>83.06</td>\n",
              "      <td>145.68</td>\n",
              "      <td>0.69</td>\n",
              "      <td>491.0</td>\n",
              "      <td>9</td>\n",
              "    </tr>\n",
              "    <tr>\n",
              "      <th>...</th>\n",
              "      <td>...</td>\n",
              "      <td>...</td>\n",
              "      <td>...</td>\n",
              "      <td>...</td>\n",
              "      <td>...</td>\n",
              "      <td>...</td>\n",
              "      <td>...</td>\n",
              "      <td>...</td>\n",
              "    </tr>\n",
              "    <tr>\n",
              "      <th>362</th>\n",
              "      <td>2020-09-13</td>\n",
              "      <td>2020-09-14</td>\n",
              "      <td>28.89</td>\n",
              "      <td>72.65</td>\n",
              "      <td>159.55</td>\n",
              "      <td>0.67</td>\n",
              "      <td>652.0</td>\n",
              "      <td>9</td>\n",
              "    </tr>\n",
              "    <tr>\n",
              "      <th>363</th>\n",
              "      <td>2020-09-14</td>\n",
              "      <td>2020-09-15</td>\n",
              "      <td>27.43</td>\n",
              "      <td>78.53</td>\n",
              "      <td>145.24</td>\n",
              "      <td>0.77</td>\n",
              "      <td>668.0</td>\n",
              "      <td>9</td>\n",
              "    </tr>\n",
              "    <tr>\n",
              "      <th>364</th>\n",
              "      <td>2020-09-15</td>\n",
              "      <td>2020-09-16</td>\n",
              "      <td>27.04</td>\n",
              "      <td>81.43</td>\n",
              "      <td>152.82</td>\n",
              "      <td>0.82</td>\n",
              "      <td>627.0</td>\n",
              "      <td>9</td>\n",
              "    </tr>\n",
              "    <tr>\n",
              "      <th>365</th>\n",
              "      <td>2020-09-16</td>\n",
              "      <td>2020-09-17</td>\n",
              "      <td>27.78</td>\n",
              "      <td>77.99</td>\n",
              "      <td>147.96</td>\n",
              "      <td>0.78</td>\n",
              "      <td>592.0</td>\n",
              "      <td>9</td>\n",
              "    </tr>\n",
              "    <tr>\n",
              "      <th>366</th>\n",
              "      <td>2020-09-17</td>\n",
              "      <td>2020-09-18</td>\n",
              "      <td>25.75</td>\n",
              "      <td>84.50</td>\n",
              "      <td>130.00</td>\n",
              "      <td>0.80</td>\n",
              "      <td>645.0</td>\n",
              "      <td>9</td>\n",
              "    </tr>\n",
              "  </tbody>\n",
              "</table>\n",
              "<p>367 rows × 8 columns</p>\n",
              "</div>"
            ],
            "text/plain": [
              "     From_Date    To_Date     AT     RH      SR    WS  Energy  Month\n",
              "0   2019-09-17 2019-09-18  26.60  86.83  192.03  1.34   483.0      9\n",
              "1   2019-09-18 2019-09-19  26.10  89.25  108.98  1.08   371.0      9\n",
              "2   2019-09-19 2019-09-20  27.66  80.99  172.50  0.92   551.0      9\n",
              "3   2019-09-20 2019-09-21  27.77  82.71  165.78  0.78   614.0      9\n",
              "4   2019-09-21 2019-09-22  27.75  83.06  145.68  0.69   491.0      9\n",
              "..         ...        ...    ...    ...     ...   ...     ...    ...\n",
              "362 2020-09-13 2020-09-14  28.89  72.65  159.55  0.67   652.0      9\n",
              "363 2020-09-14 2020-09-15  27.43  78.53  145.24  0.77   668.0      9\n",
              "364 2020-09-15 2020-09-16  27.04  81.43  152.82  0.82   627.0      9\n",
              "365 2020-09-16 2020-09-17  27.78  77.99  147.96  0.78   592.0      9\n",
              "366 2020-09-17 2020-09-18  25.75  84.50  130.00  0.80   645.0      9\n",
              "\n",
              "[367 rows x 8 columns]"
            ]
          },
          "metadata": {
            "tags": []
          },
          "execution_count": 19
        }
      ]
    },
    {
      "cell_type": "code",
      "metadata": {
        "id": "WfooLjiCShnn"
      },
      "source": [
        "df.to_csv(\"datasheet.csv\")"
      ],
      "execution_count": 21,
      "outputs": []
    },
    {
      "cell_type": "code",
      "metadata": {
        "id": "1GP9gULILcvn"
      },
      "source": [
        "df.to_csv(\"new.csv\",columns=['Energy'])"
      ],
      "execution_count": 22,
      "outputs": []
    }
  ]
}